{
  "nbformat": 4,
  "nbformat_minor": 0,
  "metadata": {
    "colab": {
      "name": "pytorch_tutorial_1",
      "version": "0.3.2",
      "provenance": [],
      "include_colab_link": true
    },
    "kernelspec": {
      "name": "python3",
      "display_name": "Python 3"
    }
  },
  "cells": [
    {
      "cell_type": "markdown",
      "metadata": {
        "id": "view-in-github",
        "colab_type": "text"
      },
      "source": [
        "<a href=\"https://colab.research.google.com/github/neklyud/pytorch-tutorial/blob/master/pytorch_tutorial_1.ipynb\" target=\"_parent\"><img src=\"https://colab.research.google.com/assets/colab-badge.svg\" alt=\"Open In Colab\"/></a>"
      ]
    },
    {
      "cell_type": "code",
      "metadata": {
        "id": "EzV2uZv3_QLu",
        "colab_type": "code",
        "colab": {}
      },
      "source": [
        "from __future__ import print_function\n",
        "import torch"
      ],
      "execution_count": 0,
      "outputs": []
    },
    {
      "cell_type": "code",
      "metadata": {
        "id": "9xkXI7Y6_aNc",
        "colab_type": "code",
        "outputId": "91181e8b-8eb8-43e4-fe20-d91a97750829",
        "colab": {
          "base_uri": "https://localhost:8080/",
          "height": 102
        }
      },
      "source": [
        "x = torch.empty(5,3)\n",
        "print(x)"
      ],
      "execution_count": 0,
      "outputs": [
        {
          "output_type": "stream",
          "text": [
            "tensor([[2.8056e-36, 0.0000e+00, 4.4842e-44],\n",
            "        [0.0000e+00,        nan, 0.0000e+00],\n",
            "        [6.5645e-07, 6.7010e-10, 6.6474e+22],\n",
            "        [1.3385e+22, 2.5959e-09, 2.0920e+23],\n",
            "        [6.4106e-10, 1.6503e-07, 0.0000e+00]])\n"
          ],
          "name": "stdout"
        }
      ]
    },
    {
      "cell_type": "code",
      "metadata": {
        "id": "QEpHVAhcAM-g",
        "colab_type": "code",
        "outputId": "b04f95c9-8045-4cdf-c080-e2a4c43adbb6",
        "colab": {
          "base_uri": "https://localhost:8080/",
          "height": 102
        }
      },
      "source": [
        "x = torch.rand(5,3)\n",
        "print(x)"
      ],
      "execution_count": 0,
      "outputs": [
        {
          "output_type": "stream",
          "text": [
            "tensor([[0.5872, 0.5097, 0.8370],\n",
            "        [0.6919, 0.2689, 0.5285],\n",
            "        [0.5613, 0.0672, 0.7533],\n",
            "        [0.0717, 0.5340, 0.2139],\n",
            "        [0.3562, 0.9497, 0.4128]])\n"
          ],
          "name": "stdout"
        }
      ]
    },
    {
      "cell_type": "code",
      "metadata": {
        "id": "mAAD-ExHASeF",
        "colab_type": "code",
        "outputId": "5f91e54d-d215-498e-87ee-4ff07033ed81",
        "colab": {
          "base_uri": "https://localhost:8080/",
          "height": 102
        }
      },
      "source": [
        "x = torch.zeros(5,3,dtype=torch.long)\n",
        "print(x)"
      ],
      "execution_count": 0,
      "outputs": [
        {
          "output_type": "stream",
          "text": [
            "tensor([[0, 0, 0],\n",
            "        [0, 0, 0],\n",
            "        [0, 0, 0],\n",
            "        [0, 0, 0],\n",
            "        [0, 0, 0]])\n"
          ],
          "name": "stdout"
        }
      ]
    },
    {
      "cell_type": "code",
      "metadata": {
        "id": "IIl9Se-yAc-5",
        "colab_type": "code",
        "outputId": "62b06fe7-6618-4ce9-ab08-4a05522ad31a",
        "colab": {
          "base_uri": "https://localhost:8080/",
          "height": 34
        }
      },
      "source": [
        "x = torch.tensor([5.5,3])\n",
        "print(x)"
      ],
      "execution_count": 0,
      "outputs": [
        {
          "output_type": "stream",
          "text": [
            "tensor([5.5000, 3.0000])\n"
          ],
          "name": "stdout"
        }
      ]
    },
    {
      "cell_type": "code",
      "metadata": {
        "id": "7IUjhOytAjOg",
        "colab_type": "code",
        "outputId": "75a92946-6ce2-4d37-823f-51d3018223bb",
        "colab": {
          "base_uri": "https://localhost:8080/",
          "height": 187
        }
      },
      "source": [
        "x = x.new_ones(5,3,dtype=torch.double)\n",
        "print(x)\n",
        "\n",
        "x = torch.randn_like(x,dtype=torch.float)\n",
        "print(x)"
      ],
      "execution_count": 0,
      "outputs": [
        {
          "output_type": "stream",
          "text": [
            "tensor([[1., 1., 1.],\n",
            "        [1., 1., 1.],\n",
            "        [1., 1., 1.],\n",
            "        [1., 1., 1.],\n",
            "        [1., 1., 1.]], dtype=torch.float64)\n",
            "tensor([[ 1.1007, -1.2935, -0.3261],\n",
            "        [-0.5929,  0.6228,  0.2294],\n",
            "        [ 0.1112,  0.2135,  0.8898],\n",
            "        [-1.7136,  0.5455, -0.6849],\n",
            "        [ 1.3768, -0.3985,  0.1559]])\n"
          ],
          "name": "stdout"
        }
      ]
    },
    {
      "cell_type": "code",
      "metadata": {
        "id": "ltUjJq7hA4fv",
        "colab_type": "code",
        "outputId": "ca426135-bb58-45f0-e2a6-7349cb87c62a",
        "colab": {
          "base_uri": "https://localhost:8080/",
          "height": 34
        }
      },
      "source": [
        "print(x.size())"
      ],
      "execution_count": 0,
      "outputs": [
        {
          "output_type": "stream",
          "text": [
            "torch.Size([5, 3])\n"
          ],
          "name": "stdout"
        }
      ]
    },
    {
      "cell_type": "code",
      "metadata": {
        "id": "bzVw71LOA9BY",
        "colab_type": "code",
        "outputId": "91e7edd6-54a1-441e-c2b2-7018b959e18b",
        "colab": {
          "base_uri": "https://localhost:8080/",
          "height": 102
        }
      },
      "source": [
        "y = torch.rand(5,3)\n",
        "print(x+y)"
      ],
      "execution_count": 0,
      "outputs": [
        {
          "output_type": "stream",
          "text": [
            "tensor([[ 1.1187, -0.8680, -0.0582],\n",
            "        [-0.2839,  0.6336,  1.0839],\n",
            "        [ 0.5534,  0.4969,  0.9171],\n",
            "        [-1.5291,  1.5366, -0.4730],\n",
            "        [ 1.7355,  0.1822,  0.9165]])\n"
          ],
          "name": "stdout"
        }
      ]
    },
    {
      "cell_type": "code",
      "metadata": {
        "id": "16o24brABO0l",
        "colab_type": "code",
        "outputId": "54db0e92-6732-4b55-a6c2-62b054cc6772",
        "colab": {
          "base_uri": "https://localhost:8080/",
          "height": 102
        }
      },
      "source": [
        "print(torch.add(x,y))"
      ],
      "execution_count": 0,
      "outputs": [
        {
          "output_type": "stream",
          "text": [
            "tensor([[ 1.1187, -0.8680, -0.0582],\n",
            "        [-0.2839,  0.6336,  1.0839],\n",
            "        [ 0.5534,  0.4969,  0.9171],\n",
            "        [-1.5291,  1.5366, -0.4730],\n",
            "        [ 1.7355,  0.1822,  0.9165]])\n"
          ],
          "name": "stdout"
        }
      ]
    },
    {
      "cell_type": "code",
      "metadata": {
        "id": "JjD0XbkYBWQV",
        "colab_type": "code",
        "outputId": "89e161f1-e8f6-4259-8e9c-0410e9379f91",
        "colab": {
          "base_uri": "https://localhost:8080/",
          "height": 102
        }
      },
      "source": [
        "result = torch.empty(5,3)\n",
        "torch.add(x,y,out=result)\n",
        "print(result)"
      ],
      "execution_count": 0,
      "outputs": [
        {
          "output_type": "stream",
          "text": [
            "tensor([[ 1.1187, -0.8680, -0.0582],\n",
            "        [-0.2839,  0.6336,  1.0839],\n",
            "        [ 0.5534,  0.4969,  0.9171],\n",
            "        [-1.5291,  1.5366, -0.4730],\n",
            "        [ 1.7355,  0.1822,  0.9165]])\n"
          ],
          "name": "stdout"
        }
      ]
    },
    {
      "cell_type": "code",
      "metadata": {
        "id": "qi9PsDywBgal",
        "colab_type": "code",
        "outputId": "3f73407c-bd46-4588-c9b1-4ca3caf735a9",
        "colab": {
          "base_uri": "https://localhost:8080/",
          "height": 272
        }
      },
      "source": [
        "y.add_(x)\n",
        "print(y)"
      ],
      "execution_count": 0,
      "outputs": [
        {
          "output_type": "stream",
          "text": [
            "tensor([[ 1.1187, -0.8680, -0.0582],\n",
            "        [-0.2839,  0.6336,  1.0839],\n",
            "        [ 0.5534,  0.4969,  0.9171],\n",
            "        [-1.5291,  1.5366, -0.4730],\n",
            "        [ 1.7355,  0.1822,  0.9165]])\n",
            "tensor([[ 1.1007, -1.2935, -0.3261],\n",
            "        [-0.5929,  0.6228,  0.2294],\n",
            "        [ 0.1112,  0.2135,  0.8898],\n",
            "        [-1.7136,  0.5455, -0.6849],\n",
            "        [ 1.3768, -0.3985,  0.1559]])\n",
            "tensor([[ 2.2194, -2.1615, -0.3844],\n",
            "        [-0.8769,  1.2564,  1.3133],\n",
            "        [ 0.6647,  0.7103,  1.8068],\n",
            "        [-3.2427,  2.0821, -1.1580],\n",
            "        [ 3.1123, -0.2164,  1.0724]])\n"
          ],
          "name": "stdout"
        }
      ]
    },
    {
      "cell_type": "code",
      "metadata": {
        "id": "_v2rU9nPBr7o",
        "colab_type": "code",
        "outputId": "c78eaa5c-e83d-4f3b-9773-c9ef7db03808",
        "colab": {
          "base_uri": "https://localhost:8080/",
          "height": 187
        }
      },
      "source": [
        "print(x)\n",
        "x.copy_(y)\n"
      ],
      "execution_count": 0,
      "outputs": [
        {
          "output_type": "stream",
          "text": [
            "tensor([[ 1.1007, -1.2935, -0.3261],\n",
            "        [-0.5929,  0.6228,  0.2294],\n",
            "        [ 0.1112,  0.2135,  0.8898],\n",
            "        [-1.7136,  0.5455, -0.6849],\n",
            "        [ 1.3768, -0.3985,  0.1559]])\n",
            "tensor([[ 2.2194, -2.1615, -0.3844],\n",
            "        [-0.8769,  1.2564,  1.3133],\n",
            "        [ 0.6647,  0.7103,  1.8068],\n",
            "        [-3.2427,  2.0821, -1.1580],\n",
            "        [ 3.1123, -0.2164,  1.0724]])\n"
          ],
          "name": "stdout"
        }
      ]
    },
    {
      "cell_type": "code",
      "metadata": {
        "id": "2tuQOZhMB_-M",
        "colab_type": "code",
        "outputId": "cf65d2ff-ceee-4476-ade3-05f2a80f31f2",
        "colab": {
          "base_uri": "https://localhost:8080/",
          "height": 34
        }
      },
      "source": [
        "print(x[1:2,2])"
      ],
      "execution_count": 0,
      "outputs": [
        {
          "output_type": "stream",
          "text": [
            "tensor([1.3133])\n"
          ],
          "name": "stdout"
        }
      ]
    },
    {
      "cell_type": "code",
      "metadata": {
        "id": "4GN35BtjCOho",
        "colab_type": "code",
        "outputId": "2346b9b2-cffe-4bb3-c382-18e9a971d145",
        "colab": {
          "base_uri": "https://localhost:8080/",
          "height": 34
        }
      },
      "source": [
        "x = torch.randn(4,4)\n",
        "y = x.view(16)\n",
        "z = x.view(-1, 8)\n",
        "print(x.size(), y.size(), z.size())"
      ],
      "execution_count": 0,
      "outputs": [
        {
          "output_type": "stream",
          "text": [
            "torch.Size([4, 4]) torch.Size([16]) torch.Size([2, 8])\n"
          ],
          "name": "stdout"
        }
      ]
    },
    {
      "cell_type": "code",
      "metadata": {
        "id": "zAEh8aguCpNx",
        "colab_type": "code",
        "outputId": "dbaa8929-0ece-45a3-c33a-1bc84a534564",
        "colab": {
          "base_uri": "https://localhost:8080/",
          "height": 51
        }
      },
      "source": [
        "x = torch.randn(1)\n",
        "print(x)\n",
        "print(x.item())"
      ],
      "execution_count": 0,
      "outputs": [
        {
          "output_type": "stream",
          "text": [
            "tensor([-0.0822])\n",
            "-0.08218337595462799\n"
          ],
          "name": "stdout"
        }
      ]
    },
    {
      "cell_type": "code",
      "metadata": {
        "id": "SFue8_TTC1Ed",
        "colab_type": "code",
        "outputId": "37a71a2c-c990-40ee-80a8-dce41aadf3ea",
        "colab": {
          "base_uri": "https://localhost:8080/",
          "height": 34
        }
      },
      "source": [
        "a = torch.ones(5)\n",
        "print(a)"
      ],
      "execution_count": 0,
      "outputs": [
        {
          "output_type": "stream",
          "text": [
            "tensor([1., 1., 1., 1., 1.])\n"
          ],
          "name": "stdout"
        }
      ]
    },
    {
      "cell_type": "code",
      "metadata": {
        "id": "h_vgBfH5C6Yq",
        "colab_type": "code",
        "outputId": "f1b32cea-275a-4690-b3cb-392d99f2429f",
        "colab": {
          "base_uri": "https://localhost:8080/",
          "height": 34
        }
      },
      "source": [
        "b = a.numpy()\n",
        "print(b)"
      ],
      "execution_count": 0,
      "outputs": [
        {
          "output_type": "stream",
          "text": [
            "[1. 1. 1. 1. 1.]\n"
          ],
          "name": "stdout"
        }
      ]
    },
    {
      "cell_type": "code",
      "metadata": {
        "id": "gcbPpqeyC-H2",
        "colab_type": "code",
        "outputId": "bd3d8245-5bf8-465f-b2e0-63919062faf1",
        "colab": {
          "base_uri": "https://localhost:8080/",
          "height": 51
        }
      },
      "source": [
        "a.add_(1)\n",
        "print(a)\n",
        "print(b)"
      ],
      "execution_count": 0,
      "outputs": [
        {
          "output_type": "stream",
          "text": [
            "tensor([2., 2., 2., 2., 2.])\n",
            "[2. 2. 2. 2. 2.]\n"
          ],
          "name": "stdout"
        }
      ]
    },
    {
      "cell_type": "code",
      "metadata": {
        "id": "4d4Lv6bbDDVq",
        "colab_type": "code",
        "outputId": "7521d974-2a84-4eb0-bc82-0b688152a5b4",
        "colab": {
          "base_uri": "https://localhost:8080/",
          "height": 51
        }
      },
      "source": [
        "import numpy as np\n",
        "a = np.ones(5)\n",
        "b = torch.from_numpy(a)\n",
        "np.add(a,1,out=a)\n",
        "print(a)\n",
        "print(b)"
      ],
      "execution_count": 0,
      "outputs": [
        {
          "output_type": "stream",
          "text": [
            "[2. 2. 2. 2. 2.]\n",
            "tensor([2., 2., 2., 2., 2.], dtype=torch.float64)\n"
          ],
          "name": "stdout"
        }
      ]
    },
    {
      "cell_type": "code",
      "metadata": {
        "id": "2NolAsTdDWij",
        "colab_type": "code",
        "colab": {}
      },
      "source": [
        "if torch.cuda.is_available():\n",
        "  device = torch.device(\"cuda\")\n",
        "  y = torch.ones_like(x, device = device)\n",
        "  x = x.to(device)\n",
        "  z = x + y\n",
        "  print(z)\n",
        "  print(z.to(\"cpu\",torch.double))"
      ],
      "execution_count": 0,
      "outputs": []
    }
  ]
}